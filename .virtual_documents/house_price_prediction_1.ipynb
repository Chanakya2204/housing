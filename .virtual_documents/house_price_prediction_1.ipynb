











#install below libraries by following commad in anacoda promt

import numpy as np
import pandas as pd
import matplotlib.pyplot as plt
import seaborn as sns 





train_data_path = r"D:\house_price_prediction\data\train.csv"
test_data_path = r"D:\house_price_prediction\data\test.csv"

 
df_train=pd.read_csv(train_data_path)
df_test=pd.read_csv(test_data_path)

print("shape of df_train: ", df_train.shape)
print("shape of df_test:  ",df_test.shape)


pd.set_option("display.max_columns",None)
pd.set_option("display.max_rows",None)


 df_train.head(10)



df_test.head(5)












df = pd.concat([df_train, df_test])

print("Shape of df: ", df.shape)





df.info()





int_features=df.select_dtypes(include=["int64"]).columns
print("total number of int features :",int_features.shape[0])
print("integer-features",int_features.tolist());


float_features=df.select_dtypes(include=["float64"]).columns
print("total number of float features :",float_features.shape[0])
print("float-features",float_features.tolist());


cat_features=df.select_dtypes(include=["object"]).columns
print("total number of object features :",cat_features.shape[0])
print("object-features",cat_features.tolist());





df.describe()


df.describe().shape








plt.figure(figsize=(16,9))
sns.heatmap(df.isnull())
plt.savefig("EDA_img/heatmap_DF_of_null_values.png")


# set index as ID column
df=df.set_index("Id")


null_count =df.isnull().sum()
null_count





null_percent =df.isnull().sum()/df.shape[0]*100
null_percent





""" as per our domain knowlegde we are not going to drop toose features,instead wee will add a constant value where ever there is none"""
miss_value_50_perc=null_percent[null_percent>50]
miss_value_50_perc


df["Alley"].value_counts()


miss_value_20_50_perc=null_percent[(null_percent>20) &(null_percent <51)]
miss_value_20_50_perc


miss_value_5_20_perc=null_percent[(null_percent>5) &(null_percent <20)]
miss_value_5_20_perc


sns.heatmap(df[miss_value_5_20_perc.keys()].isnull())





missing_value_feat =null_percent[null_percent>0]
print("Total missing value features",len(missing_value_feat))


missing_value_feat


cat_na_feat=missing_value_feat[missing_value_feat.keys().isin(cat_features)]
print("total number of categorical missing features =",len(cat_na_feat))
cat_na_feat


int_na_feat=missing_value_feat[missing_value_feat.keys().isin(int_features)]
print("total number of integer missing features =",len(int_na_feat))
int_na_feat


float_na_feat=missing_value_feat[missing_value_feat.keys().isin(float_features)]
print("total number of categorical missing features =",len(float_na_feat))
float_na_feat





df["MSZoning"].value_counts()


sns.countplot(df["MSZoning"])


### backup of original data
df_mvi=df.copy()
df_mvi.shape



mszoning_mode=df["MSZoning"].mode()[0]
df_mvi["MSZoning"].replace(np.nan ,mszoning_mode)
df_mvi["MSZoning"].isnull().sum() 


def oldNewCountPlot(df,df_new,feature):
    plt.subplot(121)
    sns.countplot(df[feature])
    plt.title("old data distribution")
    plt.subplot(122)
    sns.countplot(df_new[feature])
    plt.title("new data distribution")
    



oldNewCountPlot(df,df_mvi,"MSZoning")





df_mvi["Alley"].value_counts()


alley_cont = "NA"
df_mvi["Alley"].replace(np.nan,alley_cont )
df_mvi["Alley"].isnull().sum()


oldNewCountPlot(df,df_mvi,"Alley")





def boxHistPlot(df, figsize=(16,5)):
    plt.figure(figsize=figsize)
    plt.subplot(221)
    sns.boxplot(df)
    plt.subplot(222)
    sns.displot(df)


boxHistPlot(df["LotFrontage"])


lotlrontage_mean =df["LotFrontage"].mean()
df_mvi["LotFrontage"].replace(np.nan, lotlrontage_mean, inplace =True)
df_mvi["LotFrontage"].isnull().sum()


def oldNewBoxHistPlot(df,df_new,feature,figsize=(16,10)):
    plt.figure(figsize=figsize)
    plt.subplot(221)
    sns.boxplot(df[feature])
    plt.title("old data distribution")
    plt.subplot(222)
    sns.distplot(df[feature])
    plt.title("old data distribution")
    
    plt.subplot(223)
    sns.boxplot(df_new[feature])
    plt.title(" new data distribution")
    plt.subplot(224)
    sns.distplot(df_new[feature])
    plt.title("new data distribution")


oldNewBoxHistPlot(df,df_mvi,"LotFrontage")





df["Utilities"].value_counts()


utilities_mode=df["Utilities"].mode()[0]
df_mvi["Utilities"].replace(np.nan, utilities_mode ,inplace=True)
df_mvi["Utilities"].isnull().sum()





df["Exterior1st"].value_counts()


df["Exterior2nd"].value_counts()


Exterior1st_mode=df["Exterior1st"].mode()[0]
Exterior2nd_mode=df["Exterior2nd"].mode()[0]
df_mvi["Exterior1st"].replace(np.nan, Exterior1st_mode ,inplace=True)
df_mvi["Exterior2nd"].replace(np.nan, Exterior2nd_mode ,inplace=True)
print("e1st is null:" ,df_mvi["Exterior1st"].isnull().sum())
print("e2nd is null:" ,df_mvi["Exterior2nd"].isnull().sum())





sns.heatmap(df[["MasVnrType","MasVnrArea"]].isnull())



