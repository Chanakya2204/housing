











#install below libraries by following commad in anacoda promt

import numpy as np
import pandas as pd
import matplotlib.pyplot as plt
import seaborn as sns 
import calendar


from pandas.api.types import CategoricalDtype

from sklearn.preprocessing import StandardScaler







train_data_path = r"D:\house_price_prediction\data\train.csv"
test_data_path = r"D:\house_price_prediction\data\test.csv"

 
df_train=pd.read_csv(train_data_path)
df_test=pd.read_csv(test_data_path)

print("shape of df_train: ", df_train.shape)
print("shape of df_test:  ",df_test.shape)


pd.set_option("display.max_columns",None)
pd.set_option("display.max_rows",None)


 df_train.head(10)



df_test.head(5)












df = pd.concat([df_train, df_test])

print("Shape of df: ", df.shape)





df.info()





int_features=df.select_dtypes(include=["int64"]).columns
print("total number of int features :",int_features.shape[0])
print("integer-features",int_features.tolist());


float_features=df.select_dtypes(include=["float64"]).columns
print("total number of float features :",float_features.shape[0])
print("float-features",float_features.tolist());


cat_features=df.select_dtypes(include=["object"]).columns
print("total number of object features :",cat_features.shape[0])
print("object-features",cat_features.tolist());





df.describe()


df.describe().shape








plt.figure(figsize=(16,9))
sns.heatmap(df.isnull())
plt.savefig("EDA_img/heatmap_DF_of_null_values.png")


# set index as ID column
df=df.set_index("Id")


null_count =df.isnull().sum()
null_count





null_percent =df.isnull().sum()/df.shape[0]*100
null_percent





""" as per our domain knowlegde we are not going to drop toose features,instead wee will add a constant value where ever there is none"""
miss_value_50_perc=null_percent[null_percent>50]
miss_value_50_perc


df["Alley"].value_counts()


miss_value_20_50_perc=null_percent[(null_percent>20) &(null_percent <51)]
miss_value_20_50_perc


miss_value_5_20_perc=null_percent[(null_percent>5) &(null_percent <20)]
miss_value_5_20_perc


sns.heatmap(df[miss_value_5_20_perc.keys()].isnull())





missing_value_feat =null_percent[null_percent>0]
print("Total missing value features",len(missing_value_feat))


missing_value_feat


cat_na_feat=missing_value_feat[missing_value_feat.keys().isin(cat_features)]
print("total number of categorical missing features =",len(cat_na_feat))
cat_na_feat


int_na_feat=missing_value_feat[missing_value_feat.keys().isin(int_features)]
print("total number of integer missing features =",len(int_na_feat))
int_na_feat


float_na_feat=missing_value_feat[missing_value_feat.keys().isin(float_features)]
print("total number of categorical missing features =",len(float_na_feat))
float_na_feat





df["MSZoning"].value_counts()


sns.countplot(df["MSZoning"])


### backup of original data
df_mvi=df.copy()
df_mvi.shape



mszoning_mode=df["MSZoning"].mode()[0]
df_mvi["MSZoning"].replace(np.nan ,mszoning_mode)
df_mvi["MSZoning"].isnull().sum() 


def oldNewCountPlot(df,df_new,feature):
    plt.subplot(121)
    sns.countplot(df[feature])
    plt.title("old data distribution")
    plt.subplot(122)
    sns.countplot(df_new[feature])
    plt.title("new data distribution")
    



oldNewCountPlot(df,df_mvi,"MSZoning")





df_mvi["Alley"].value_counts()


alley_cont = "NA"
df_mvi["Alley"].replace(np.nan,alley_cont )
df_mvi["Alley"].isnull().sum()


oldNewCountPlot(df,df_mvi,"Alley")





def boxHistPlot(df, figsize=(16,5)):
    plt.figure(figsize=figsize)
    plt.subplot(221)
    sns.boxplot(df)
    plt.subplot(222)
    sns.displot(df)


boxHistPlot(df["LotFrontage"])


lotlrontage_mean =df["LotFrontage"].mean()
df_mvi["LotFrontage"].replace(np.nan, lotlrontage_mean, inplace =True)
df_mvi["LotFrontage"].isnull().sum()


def oldNewBoxHistPlot(df,df_new,feature,figsize=(16,10)):
    plt.figure(figsize=figsize)
    plt.subplot(221)
    sns.boxplot(df[feature])
    plt.title("old data distribution")
    plt.subplot(222)
    sns.distplot(df[feature])
    plt.title("old data distribution")
    
    plt.subplot(223)
    sns.boxplot(df_new[feature])
    plt.title(" new data distribution")
    plt.subplot(224)
    sns.distplot(df_new[feature])
    plt.title("new data distribution")


oldNewBoxHistPlot(df,df_mvi,"LotFrontage")





df["Utilities"].value_counts()


utilities_mode=df["Utilities"].mode()[0]
df_mvi["Utilities"].replace(np.nan, utilities_mode ,inplace=True)
df_mvi["Utilities"].isnull().sum()





df["Exterior1st"].value_counts()


df["Exterior2nd"].value_counts()


Exterior1st_mode=df["Exterior1st"].mode()[0]
Exterior2nd_mode=df["Exterior2nd"].mode()[0]
df_mvi["Exterior1st"].replace(np.nan, Exterior1st_mode ,inplace=True)
df_mvi["Exterior2nd"].replace(np.nan, Exterior2nd_mode ,inplace=True)
print("e1st is null:" ,df_mvi["Exterior1st"].isnull().sum())
print("e2nd is null:" ,df_mvi["Exterior2nd"].isnull().sum())





sns.heatmap(df[["MasVnrType","MasVnrArea"]].isnull())


df[df[["MasVnrType" ,"MasVnrArea"]].isnull().any(axis=1)]


df["MasVnrType"].value_counts()


MasVnrType_mode=df["MasVnrType"].mode()[0]
df_mvi["MasVnrType"].replace(np.nan, utilities_mode ,inplace=True)
df_mvi["MasVnrType"].isnull().sum()


boxHistPlot(df["MasVnrType"])


MasVnrType_contv = 0
df_mvi["MasVnrType"].replace(np.nan, utilities_mode ,inplace=True)
df_mvi["MasVnrType"].isnull().sum()


## handling Bsmt Features


cat_bsmt_feat =["BsmtQual" ,"BsmtCond","BsmtExposure","BsmtFinType1","BsmtFinType2"]
num_bsmt_feat = ["BsmtFinSF1" ,"BsmtFinSF2","BsmtUnfSF","TotalBsmtSF","BsmtHalfBath"]


sns.heatmap(df[cat_bsmt_feat].isnull())


for feat in cat_bsmt_feat:
    print(f"Value count of {feat}: {df[feat].value_counts()}")


bsmt_cont ="NA"
for feat in cat_bsmt_feat:
    df_mvi[feat].replace(np.nan ,bsmt_cont)
    


df_mvi[cat_bsmt_feat].isnull().sum()


sns.heatmap(df[num_bsmt_feat].isnull())


df_bsmt=df[cat_bsmt_feat + num_bsmt_feat]
df_bsmt[df_bsmt.isnull().any(axis=1)]


bsmt_num = 0
for feat in num_bsmt_feat:
    df_mvi[feat].replace(np.nan, bsmt_num )


df_mvi[num_bsmt_feat].isnull().sum()





df["Electrical"].value_counts()


df["KitchenQual"].value_counts()


df_ekk=df[["Electrical","KitchenQual","KitchenAbvGr"]]
df_ekk[df_ekk.isnull().any(axis=1)]


Electrical_mode=df["Electrical"].mode()[0]
df_mvi["Electrical"].replace(np.nan, Electrical_mode ,inplace=True)
df_mvi["Electrical"].isnull().sum()


KitchenQual_mode=df["KitchenQual"].mode()[0]
df_mvi["KitchenQual"].replace(np.nan, KitchenQual_mode ,inplace=True)
df_mvi["KitchenQual"].isnull().sum()


KitchenAbvGr_mode=df["KitchenAbvGr"].mode()[0]
df_mvi["KitchenAbvGr"].replace(np.nan, KitchenAbvGr_mode ,inplace=True)
df_mvi["KitchenAbvGr"].isnull().sum()





df["Functional"].value_counts()


df["SaleType"].value_counts()


Functional_mode=df["Functional"].mode()[0]
df_mvi["Functional"].replace(np.nan, Functional_mode ,inplace=True)
df_mvi["Functional"].isnull().sum()


SaleType_mode=df["SaleType"].mode()[0]
df_mvi["SaleType"].replace(np.nan, SaleType_mode ,inplace=True)
df_mvi["SaleType"].isnull().sum()


other_cat_feat =["FireplaceQu", "PoolQC",
"Fence",
"MiscFeature"]
for feat in other_cat_feat:

    print(f"Value count of {feat}: {df[feat].value_counts()}" )


FireplaceQu_cont= "NA"
df_mvi["FireplaceQu"].replace(np.nan, FireplaceQu_cont,inplace=True)
df_mvi["FireplaceQu"].isnull().sum()


PoolQC_cont="NA"
df_mvi["PoolQC"].replace(np.nan, PoolQC_cont ,inplace=True)
df_mvi["PoolQC"].isnull().sum()


Fence_cont="NA"
df_mvi["Fence"].replace(np.nan, Fence_cont ,inplace=True)
df_mvi["Fence"].isnull().sum()


MiscFeature_cont= "NA"
df_mvi["MiscFeature"].replace(np.nan, MiscFeature_cont ,inplace=True)
df_mvi["MiscFeature"].isnull().sum()









cat_garage_feat = ["GarageType","GarageFinish","GarageQual","GarageCond"]
num_garage_feat = ["GarageYrBlt","GarageCars","GarageArea"]

df_garafe=df[num_garage_feat + cat_garage_feat]
df_garafe[df_garafe.isnull().any(axis=1)]


garage_cont= "NA"
for feat in cat_garage_feat:
    df_mvi[feat].replace(np.nan ,garage_cont ,inplace=True)

df_mvi[cat_garage_feat].isnull().sum()
    


garage_num= 0
for feat in cat_garage_feat:
    df_mvi[feat].replace(np.nan ,garage_num )

df_mvi[num_garage_feat].isnull().sum()
    


df_mvi.isnull().any(axis=1).sum()





for_num_conv=["MSSubClass" ,"YearBuilt","YearRemodAdd","GarageYrBlt","MoSold","YrSold"]


for feat in for_num_conv:

    print(f"(feat):data type={df_mvi[feat].dtype}")


df_mvi[for_num_conv].head()


df_mvi["MoSold"].unique()


calendar.month_abbr[12]


df_mvi["MoSold"]=df_mvi["MoSold"].apply(lambda x:calendar.month_abbr[x])
df_mvi["MoSold"].unique()


for feat in for_num_conv:
    df_mvi[feat] =df_mvi[feat].astype(str)


for feat in for_num_conv:
    print(f"{feat}:data type ={df_mvi[feat].dtype}")








ordinal_end_var = [
    "ExterQual",
    "ExterCond",
    "BsmtQual",
    "BsmtCond",
    "BsmtExposure",
    "BsmtFinType1",
    "BsmtFinSF1",
    "BsmtFinType2",
    "HeatingQC",
    "KitchenQual",
    "FireplaceQu",
    "GarageQual",
    "GarageCond",
    "PoolQC",
    "Functional",
    "GarageFinish",
    "PavedDrive",
    "Utilities"
]
print("Total number of features to convert ordinal numerical format:",len(ordinal_end_var))   


df_mvi["ExterQual"].value_counts()


df_mvi["ExterQual"]=df_mvi["ExterQual"].astype(CategoricalDtype(categories=["Po","Fa","TA","Gd","Ex"],ordered=True)).cat.codes


df_mvi["ExterQual"].value_counts()


df_mvi['ExterCond'] = df_mvi['ExterCond'].astype(CategoricalDtype(categories=['Po', 'Fa', 'TA', 'Gd', 'Ex'], ordered=True)).cat.codes
df_mvi['BsmtQual'] = df_mvi['BsmtQual'].astype(CategoricalDtype(categories=['NA', 'Po', 'Fa', 'TA', 'Gd', 'Ex'], ordered=True)).cat.codes
df_mvi['BsmtCond'] = df_mvi['BsmtCond'].astype(CategoricalDtype(categories=['NA', 'Po', 'Fa', 'TA', 'Gd', 'Ex'], ordered=True)).cat.codes
df_mvi['BsmtExposure'] = df_mvi['BsmtExposure'].astype(CategoricalDtype(categories=['NA', 'Mn', 'Av', 'Gd'], ordered=True)).cat.codes
df_mvi['BsmtFinType1'] = df_mvi['BsmtFinType1'].astype(CategoricalDtype(categories=['NA', 'Rec', 'BLQ', 'ALQ', 'GLQ'], ordered=True)).cat.codes
df_mvi['BsmtFinType2'] = df_mvi['BsmtFinType2'].astype(CategoricalDtype(categories=['NA', 'Unf', 'Rec', 'BLQ', 'ALQ', 'GLQ'], ordered=True)).cat.codes
df_mvi['HeatingQC'] = df_mvi['HeatingQC'].astype(CategoricalDtype(categories=['Po', 'Fa', 'TA', 'Gd', 'Ex'], ordered=True)).cat.codes
df_mvi['KitchenQual'] = df_mvi['KitchenQual'].astype(CategoricalDtype(categories=['Po', 'Fa', 'TA', 'Gd', 'Ex'], ordered=True)).cat.codes
df_mvi['FireplaceQu'] = df_mvi['FireplaceQu'].astype(CategoricalDtype(categories=['NA', 'Po', 'Fa', 'TA', 'Gd', 'Ex'], ordered=True)).cat.codes
df_mvi['GarageQual'] = df_mvi['GarageQual'].astype(CategoricalDtype(categories=['NA', 'Po', 'Fa', 'TA', 'Gd', 'Ex'], ordered=True)).cat.codes
df_mvi['GarageCond'] = df_mvi['GarageCond'].astype(CategoricalDtype(categories=['NA', 'Po', 'Fa', 'TA', 'Gd', 'Ex'], ordered=True)).cat.codes
df_mvi['PoolQC'] = df_mvi['PoolQC'].astype(CategoricalDtype(categories=['NA', 'Fa', 'TA', 'Gd', 'Ex'], ordered=True)).cat.codes
df_mvi['Functional'] = df_mvi['Functional'].astype(CategoricalDtype(categories=['Sal', 'Sev', 'Maj2', 'Maj1', 'Mod', 'Min2', 'Min1', 'Typ'], ordered=True)).cat.codes
df_mvi['GarageFinish'] = df_mvi['GarageFinish'].astype(CategoricalDtype(categories=['NA', 'Unf', 'RFn', 'Fin'], ordered=True)).cat.codes
df_mvi['PavedDrive'] = df_mvi['PavedDrive'].astype(CategoricalDtype(categories=['N', 'P', 'Y'], ordered=True)).cat.codes
df_mvi['Utilities'] = df_mvi['Utilities'].astype(CategoricalDtype(categories=['ELO', 'NoSeWa', 'NoSeWr', 'AllPub'], ordered=True)).cat.codes



df_mvi.info()





df_encod = df_mvi.copy()

object_features = df_encod.select_dtypes(include="object").columns.tolist()
print("Total object data type features : ", len(object_features))

print("Features: \n ", object_features)



df_encod[object_features].head(2)


# Keep only object features that are still present in df_encod
object_features = [col for col in object_features if col in df_encod.columns]

print("Shape of DF before encoding : ", df_encod.shape)

df_encod = pd.get_dummies(
    df_encod,
    columns=object_features,
    prefix=object_features,
    drop_first=True
)

print("Shape of DF after encoding : ", df_encod.shape)



df_encod.head(2)


df_encod.select_dtypes(include="object").columns.tolist()


## split Data For Trainig & testing


df_encod.shape


df_train.shape[0]



len_train = df_train .shape[0]
len_train


X_train = df_encod[:len_train].drop("SalePrice",axis=1)
y_train = df_encod["SalePrice"][:len_train]
X_test=df_encod[len_train:].drop("SalePrice",axis=1)
print( "x:" ,X_train.shape)
print("Y:",y_train.shape)
print("x_test:",X_test.shape)





sc = StandardScaler()
sc.fit(X_train)
X_train =sc.transform(X_train)
X_test= sc.transform(X_test)


X_train[:3,:]


X_test[:3,:]


###carry forword for deployment
#sc.mean_
#sc.n_features_in_
#sc.n_samples_seen_
#sc.scale_
#sc.with_mean
#sc.with_std









from sklearn.svm import SVR
from sklearn.linear_model import LinearRegression
from sklearn.linear_model import SGDRegressor
from sklearn.neighbors import KNeighborsRegressor
from sklearn.gaussian_process import GaussianProcessRegressor
from sklearn.tree import DecisionTreeRegressor

from sklearn.ensemble import GradientBoostingRegressor
from sklearn.ensemble import RandomForestRegressor

from sklearn.neural_network import MLPRegressor

from xgboost import XGBRegressor





































































































































































































































































































































